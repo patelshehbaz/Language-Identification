{
  "nbformat": 4,
  "nbformat_minor": 0,
  "metadata": {
    "colab": {
      "provenance": [],
      "machine_shape": "hm"
    },
    "kernelspec": {
      "name": "python3",
      "display_name": "Python 3"
    },
    "language_info": {
      "name": "python"
    },
    "accelerator": "GPU",
    "gpuClass": "standard"
  },
  "cells": [
    {
      "cell_type": "markdown",
      "source": [
        "## Mount your Drive"
      ],
      "metadata": {
        "id": "Tk0J-gBqNMYK"
      }
    },
    {
      "cell_type": "code",
      "source": [
        "from google.colab import drive\n",
        "drive.mount('/content/drive', force_remount=True)"
      ],
      "metadata": {
        "colab": {
          "base_uri": "https://localhost:8080/"
        },
        "id": "11z0sFfCRKEO",
        "outputId": "bb0ac2cb-02f7-4595-c714-2f99f4436046"
      },
      "execution_count": 1,
      "outputs": [
        {
          "output_type": "stream",
          "name": "stdout",
          "text": [
            "Mounted at /content/drive\n"
          ]
        }
      ]
    },
    {
      "cell_type": "markdown",
      "source": [
        "## Import Required Libraries"
      ],
      "metadata": {
        "id": "SmlkdYYVNVHf"
      }
    },
    {
      "cell_type": "code",
      "source": [
        "from scipy.io import wavfile\n",
        "import warnings\n",
        "import zipfile\n",
        "import pandas as pd\n",
        "from sklearn import preprocessing\n",
        "import os\n",
        "\n",
        "warnings.filterwarnings(\"ignore\")"
      ],
      "metadata": {
        "id": "aArPubdtRPJy"
      },
      "execution_count": 2,
      "outputs": []
    },
    {
      "cell_type": "markdown",
      "source": [
        "## Extract the zip file"
      ],
      "metadata": {
        "id": "DHP82MU2NQ9y"
      }
    },
    {
      "cell_type": "code",
      "source": [
        "raw_file_path = '/content/drive/MyDrive/004_Aravind/Language Identification/Dataset/language-audio-data.zip'\n",
        "target_dir = 'final_data'\n",
        "os.makedirs(target_dir, exist_ok=True)\n",
        "\n",
        "with zipfile.ZipFile(raw_file_path,\"r\") as zip_f:\n",
        "    zip_f.extractall(target_dir)"
      ],
      "metadata": {
        "id": "1IuIuHeHTUoF"
      },
      "execution_count": 3,
      "outputs": []
    },
    {
      "cell_type": "markdown",
      "source": [
        "### Check the number of files in each class"
      ],
      "metadata": {
        "id": "Z2-yMd9nNYYg"
      }
    },
    {
      "cell_type": "code",
      "source": [
        "audio_dir1 = os.path.join(target_dir,'language-audio-data')\n",
        "os.listdir(audio_dir1)"
      ],
      "metadata": {
        "colab": {
          "base_uri": "https://localhost:8080/"
        },
        "id": "s6_adToBYWQt",
        "outputId": "2eeb5160-60ef-4a5b-e3a9-6e8c7ad796fb"
      },
      "execution_count": 4,
      "outputs": [
        {
          "output_type": "execute_result",
          "data": {
            "text/plain": [
              "['Hindi', 'Tamil', 'Kannada', 'Telugu']"
            ]
          },
          "metadata": {},
          "execution_count": 4
        }
      ]
    },
    {
      "cell_type": "code",
      "source": [
        "classes = []\n",
        "for i in os.listdir(audio_dir1):\n",
        "    classes.append(i)\n",
        "    class_path = audio_dir1 + '/' + str(i)\n",
        "    audio_clips = os.listdir(class_path)\n",
        "    print(f\"No. of .wav files in audio {i} folder = \",len(audio_clips))"
      ],
      "metadata": {
        "colab": {
          "base_uri": "https://localhost:8080/"
        },
        "id": "zeel4v71YcLG",
        "outputId": "3e6a3f65-0eaf-4def-badc-5f5dab5ae651"
      },
      "execution_count": 5,
      "outputs": [
        {
          "output_type": "stream",
          "name": "stdout",
          "text": [
            "No. of .wav files in audio Hindi folder =  7001\n",
            "No. of .wav files in audio Tamil folder =  6885\n",
            "No. of .wav files in audio Kannada folder =  7249\n",
            "No. of .wav files in audio Telugu folder =  7119\n"
          ]
        }
      ]
    },
    {
      "cell_type": "markdown",
      "source": [
        "### Convert MP3 to wave"
      ],
      "metadata": {
        "id": "Pt3MqMYdNbmO"
      }
    },
    {
      "cell_type": "code",
      "source": [
        "# from os import path\n",
        "# from pydub import AudioSegment\n",
        "\n",
        "# os.makedirs(\"final_wav\", exist_ok=True)\n",
        "\n",
        "# for folder in os.listdir(audio_dir1):\n",
        "#     class_path = audio_dir1 + '/' + str(folder)\n",
        "#     for count, files in enumerate(os.listdir(class_path)):\n",
        "#       src = f\"{audio_dir1}/{folder}/{files}\"\n",
        "#       file_name = f\"{folder}-{str(count)}.wav\"\n",
        "#       dst = f\"final_wav/{folder}\"W\n",
        "#       os.makedirs(dst, exist_ok=True)\n",
        "#       dst = f\"final_wav/{folder}/{file_name}\"\n",
        "#       sound = AudioSegment.from_mp3(src)\n",
        "#       sound.export(dst, format=\"wav\")"
      ],
      "metadata": {
        "id": "yvRyWjpmas2_"
      },
      "execution_count": 6,
      "outputs": []
    },
    {
      "cell_type": "markdown",
      "source": [
        "### Create Metadata for your dataset"
      ],
      "metadata": {
        "id": "c1_9-6lwNh9m"
      }
    },
    {
      "cell_type": "code",
      "source": [
        "# rename the files\n",
        "\n",
        "for folder in os.listdir(audio_dir1):\n",
        "    class_path = audio_dir1 + '/' + str(folder)\n",
        "    for count, files in enumerate(os.listdir(class_path)):\n",
        "        try:\n",
        "            dst = f\"{folder}1-{str(count)}.wav\"\n",
        "            src =f\"{audio_dir1}/{folder}/{files}\"  \n",
        "            dst =f\"{audio_dir1}/{folder}/{dst}\"\n",
        "            os.rename(src, dst)\n",
        "        except FileExistsError:\n",
        "             pass"
      ],
      "metadata": {
        "id": "UDirqdIEdq3r"
      },
      "execution_count": 7,
      "outputs": []
    },
    {
      "cell_type": "code",
      "source": [
        "### create meta data\n",
        "\n",
        "wav_dir = '/content/final_data/language-audio-data'\n",
        "\n",
        "metadata = {}\n",
        "for label in os.listdir(wav_dir):\n",
        "    class_path = wav_dir + '/' + str(label)\n",
        "    audio_clips = os.listdir(class_path)\n",
        "    for filename in audio_clips: \n",
        "        metadata[filename] = label\n",
        "\n",
        "# Create a metadata csv file\n",
        "metadata = pd.DataFrame.from_dict(metadata, orient='index').reset_index().sort_values(by=0)\n",
        "metadata.columns = ['filename', 'foldername']\n",
        "le = preprocessing.LabelEncoder()\n",
        "metadata['labels'] = le.fit_transform(metadata.foldername)\n",
        "metadata.to_csv('metadata.csv', index=False)\n",
        "metadata"
      ],
      "metadata": {
        "colab": {
          "base_uri": "https://localhost:8080/",
          "height": 424
        },
        "id": "deh27IoZdq_A",
        "outputId": "e9e52d8f-8ace-4d58-8f52-807f5c95b6f0"
      },
      "execution_count": 8,
      "outputs": [
        {
          "output_type": "execute_result",
          "data": {
            "text/plain": [
              "               filename foldername  labels\n",
              "0       Hindi1-2561.wav      Hindi       0\n",
              "4674    Hindi1-5263.wav      Hindi       0\n",
              "4673    Hindi1-6310.wav      Hindi       0\n",
              "4672    Hindi1-1316.wav      Hindi       0\n",
              "4671    Hindi1-2108.wav      Hindi       0\n",
              "...                 ...        ...     ...\n",
              "23501  Telugu1-4386.wav     Telugu       3\n",
              "23500  Telugu1-5588.wav     Telugu       3\n",
              "23499  Telugu1-5844.wav     Telugu       3\n",
              "23510  Telugu1-6027.wav     Telugu       3\n",
              "28253  Telugu1-6930.wav     Telugu       3\n",
              "\n",
              "[28254 rows x 3 columns]"
            ],
            "text/html": [
              "\n",
              "  <div id=\"df-77230e97-34d1-41d3-a905-22c79357bb4d\">\n",
              "    <div class=\"colab-df-container\">\n",
              "      <div>\n",
              "<style scoped>\n",
              "    .dataframe tbody tr th:only-of-type {\n",
              "        vertical-align: middle;\n",
              "    }\n",
              "\n",
              "    .dataframe tbody tr th {\n",
              "        vertical-align: top;\n",
              "    }\n",
              "\n",
              "    .dataframe thead th {\n",
              "        text-align: right;\n",
              "    }\n",
              "</style>\n",
              "<table border=\"1\" class=\"dataframe\">\n",
              "  <thead>\n",
              "    <tr style=\"text-align: right;\">\n",
              "      <th></th>\n",
              "      <th>filename</th>\n",
              "      <th>foldername</th>\n",
              "      <th>labels</th>\n",
              "    </tr>\n",
              "  </thead>\n",
              "  <tbody>\n",
              "    <tr>\n",
              "      <th>0</th>\n",
              "      <td>Hindi1-2561.wav</td>\n",
              "      <td>Hindi</td>\n",
              "      <td>0</td>\n",
              "    </tr>\n",
              "    <tr>\n",
              "      <th>4674</th>\n",
              "      <td>Hindi1-5263.wav</td>\n",
              "      <td>Hindi</td>\n",
              "      <td>0</td>\n",
              "    </tr>\n",
              "    <tr>\n",
              "      <th>4673</th>\n",
              "      <td>Hindi1-6310.wav</td>\n",
              "      <td>Hindi</td>\n",
              "      <td>0</td>\n",
              "    </tr>\n",
              "    <tr>\n",
              "      <th>4672</th>\n",
              "      <td>Hindi1-1316.wav</td>\n",
              "      <td>Hindi</td>\n",
              "      <td>0</td>\n",
              "    </tr>\n",
              "    <tr>\n",
              "      <th>4671</th>\n",
              "      <td>Hindi1-2108.wav</td>\n",
              "      <td>Hindi</td>\n",
              "      <td>0</td>\n",
              "    </tr>\n",
              "    <tr>\n",
              "      <th>...</th>\n",
              "      <td>...</td>\n",
              "      <td>...</td>\n",
              "      <td>...</td>\n",
              "    </tr>\n",
              "    <tr>\n",
              "      <th>23501</th>\n",
              "      <td>Telugu1-4386.wav</td>\n",
              "      <td>Telugu</td>\n",
              "      <td>3</td>\n",
              "    </tr>\n",
              "    <tr>\n",
              "      <th>23500</th>\n",
              "      <td>Telugu1-5588.wav</td>\n",
              "      <td>Telugu</td>\n",
              "      <td>3</td>\n",
              "    </tr>\n",
              "    <tr>\n",
              "      <th>23499</th>\n",
              "      <td>Telugu1-5844.wav</td>\n",
              "      <td>Telugu</td>\n",
              "      <td>3</td>\n",
              "    </tr>\n",
              "    <tr>\n",
              "      <th>23510</th>\n",
              "      <td>Telugu1-6027.wav</td>\n",
              "      <td>Telugu</td>\n",
              "      <td>3</td>\n",
              "    </tr>\n",
              "    <tr>\n",
              "      <th>28253</th>\n",
              "      <td>Telugu1-6930.wav</td>\n",
              "      <td>Telugu</td>\n",
              "      <td>3</td>\n",
              "    </tr>\n",
              "  </tbody>\n",
              "</table>\n",
              "<p>28254 rows × 3 columns</p>\n",
              "</div>\n",
              "      <button class=\"colab-df-convert\" onclick=\"convertToInteractive('df-77230e97-34d1-41d3-a905-22c79357bb4d')\"\n",
              "              title=\"Convert this dataframe to an interactive table.\"\n",
              "              style=\"display:none;\">\n",
              "        \n",
              "  <svg xmlns=\"http://www.w3.org/2000/svg\" height=\"24px\"viewBox=\"0 0 24 24\"\n",
              "       width=\"24px\">\n",
              "    <path d=\"M0 0h24v24H0V0z\" fill=\"none\"/>\n",
              "    <path d=\"M18.56 5.44l.94 2.06.94-2.06 2.06-.94-2.06-.94-.94-2.06-.94 2.06-2.06.94zm-11 1L8.5 8.5l.94-2.06 2.06-.94-2.06-.94L8.5 2.5l-.94 2.06-2.06.94zm10 10l.94 2.06.94-2.06 2.06-.94-2.06-.94-.94-2.06-.94 2.06-2.06.94z\"/><path d=\"M17.41 7.96l-1.37-1.37c-.4-.4-.92-.59-1.43-.59-.52 0-1.04.2-1.43.59L10.3 9.45l-7.72 7.72c-.78.78-.78 2.05 0 2.83L4 21.41c.39.39.9.59 1.41.59.51 0 1.02-.2 1.41-.59l7.78-7.78 2.81-2.81c.8-.78.8-2.07 0-2.86zM5.41 20L4 18.59l7.72-7.72 1.47 1.35L5.41 20z\"/>\n",
              "  </svg>\n",
              "      </button>\n",
              "      \n",
              "  <style>\n",
              "    .colab-df-container {\n",
              "      display:flex;\n",
              "      flex-wrap:wrap;\n",
              "      gap: 12px;\n",
              "    }\n",
              "\n",
              "    .colab-df-convert {\n",
              "      background-color: #E8F0FE;\n",
              "      border: none;\n",
              "      border-radius: 50%;\n",
              "      cursor: pointer;\n",
              "      display: none;\n",
              "      fill: #1967D2;\n",
              "      height: 32px;\n",
              "      padding: 0 0 0 0;\n",
              "      width: 32px;\n",
              "    }\n",
              "\n",
              "    .colab-df-convert:hover {\n",
              "      background-color: #E2EBFA;\n",
              "      box-shadow: 0px 1px 2px rgba(60, 64, 67, 0.3), 0px 1px 3px 1px rgba(60, 64, 67, 0.15);\n",
              "      fill: #174EA6;\n",
              "    }\n",
              "\n",
              "    [theme=dark] .colab-df-convert {\n",
              "      background-color: #3B4455;\n",
              "      fill: #D2E3FC;\n",
              "    }\n",
              "\n",
              "    [theme=dark] .colab-df-convert:hover {\n",
              "      background-color: #434B5C;\n",
              "      box-shadow: 0px 1px 3px 1px rgba(0, 0, 0, 0.15);\n",
              "      filter: drop-shadow(0px 1px 2px rgba(0, 0, 0, 0.3));\n",
              "      fill: #FFFFFF;\n",
              "    }\n",
              "  </style>\n",
              "\n",
              "      <script>\n",
              "        const buttonEl =\n",
              "          document.querySelector('#df-77230e97-34d1-41d3-a905-22c79357bb4d button.colab-df-convert');\n",
              "        buttonEl.style.display =\n",
              "          google.colab.kernel.accessAllowed ? 'block' : 'none';\n",
              "\n",
              "        async function convertToInteractive(key) {\n",
              "          const element = document.querySelector('#df-77230e97-34d1-41d3-a905-22c79357bb4d');\n",
              "          const dataTable =\n",
              "            await google.colab.kernel.invokeFunction('convertToInteractive',\n",
              "                                                     [key], {});\n",
              "          if (!dataTable) return;\n",
              "\n",
              "          const docLinkHtml = 'Like what you see? Visit the ' +\n",
              "            '<a target=\"_blank\" href=https://colab.research.google.com/notebooks/data_table.ipynb>data table notebook</a>'\n",
              "            + ' to learn more about interactive tables.';\n",
              "          element.innerHTML = '';\n",
              "          dataTable['output_type'] = 'display_data';\n",
              "          await google.colab.output.renderOutput(dataTable, element);\n",
              "          const docLink = document.createElement('div');\n",
              "          docLink.innerHTML = docLinkHtml;\n",
              "          element.appendChild(docLink);\n",
              "        }\n",
              "      </script>\n",
              "    </div>\n",
              "  </div>\n",
              "  "
            ]
          },
          "metadata": {},
          "execution_count": 8
        }
      ]
    },
    {
      "cell_type": "code",
      "source": [
        "# Check the mappings \n",
        "le_name_mapping = dict(zip(le.classes_, le.transform(le.classes_)))\n",
        "print(le_name_mapping)"
      ],
      "metadata": {
        "colab": {
          "base_uri": "https://localhost:8080/"
        },
        "id": "_Qo2blzPjDPR",
        "outputId": "299431b9-fd78-4c0e-99b9-a989e8f6c5c4"
      },
      "execution_count": 9,
      "outputs": [
        {
          "output_type": "stream",
          "name": "stdout",
          "text": [
            "{'Hindi': 0, 'Kannada': 1, 'Tamil': 2, 'Telugu': 3}\n"
          ]
        }
      ]
    },
    {
      "cell_type": "markdown",
      "source": [
        "Custom PyTorch Dataset"
      ],
      "metadata": {
        "id": "Y-J5p46KpL6Z"
      }
    },
    {
      "cell_type": "code",
      "source": [
        "# import-libraries\n",
        "\n",
        "import torch\n",
        "from torch.utils.data import Dataset\n",
        "import torchaudio\n",
        "import pandas as pd"
      ],
      "metadata": {
        "id": "kMKYVAyXrrlG"
      },
      "execution_count": 10,
      "outputs": []
    },
    {
      "cell_type": "code",
      "source": [
        "class IndianLanguageDataset(Dataset):\n",
        "  def __init__(self, metadata, audio_dir, target_sample_rate, num_samples, transformation):\n",
        "    self.annotations = pd.read_csv(metadata)\n",
        "    self.audio_dir = audio_dir\n",
        "    self.target_sample_rate = target_sample_rate\n",
        "    self.num_samples = num_samples\n",
        "    self.transformation = transformation\n",
        "    \n",
        "  def __len__(self):\n",
        "    return len(self.annotations)\n",
        "\n",
        "  def __getitem__(self,idx):\n",
        "    audio_sample_path = self._get_audio_sample_path(idx)\n",
        "    label = self._get_audio_sample_label(idx)\n",
        "    signal, sr = torchaudio.load(audio_sample_path)\n",
        "    signal = self.resample_audio(signal, sr)\n",
        "    signal = self.mix_down_channels(signal)\n",
        "    signal = self.cut_if_needed(signal)\n",
        "    signal = self.right_padding(signal)\n",
        "    signal = self.transformation(signal)\n",
        "    return signal , label\n",
        "  \n",
        "  def _get_audio_sample_path(self,idx):\n",
        "    class_name = f\"{self.annotations.iloc[idx, 1]}\"\n",
        "    path = os.path.join(self.audio_dir, class_name, self.annotations.iloc[idx, 0])\n",
        "    return path\n",
        "  \n",
        "  def _get_audio_sample_label(self, idx):\n",
        "    return self.annotations.iloc[idx, 2]\n",
        "  \n",
        "  def resample_audio(self, signal, sr):\n",
        "    if sr != self.target_sample_rate:\n",
        "        resampler = torchaudio.transforms.Resample(sr, self.target_sample_rate)\n",
        "        signal = resampler(signal)\n",
        "    return signal\n",
        "  \n",
        "  def mix_down_channels(self, signal):\n",
        "    if signal.shape[0] > 1:\n",
        "        signal = torch.mean(signal, dim = 0, keepdim=True)\n",
        "    return signal\n",
        "  \n",
        "  def cut_if_needed(self, signal):\n",
        "    if signal.shape[1] > self.num_samples:\n",
        "        signal = signal[:, :self.num_samples]\n",
        "    return signal \n",
        "  \n",
        "  def right_padding(self, signal):\n",
        "    length_signal = signal.shape[1]\n",
        "    if length_signal < self.num_samples:\n",
        "        num_missing = self.num_samples - length_signal\n",
        "        last_dim_padding = (0, num_missing)\n",
        "        signal = torch.nn.functional.pad(signal, last_dim_padding)\n",
        "    return signal"
      ],
      "metadata": {
        "id": "lkY-YO2r4N2p"
      },
      "execution_count": 12,
      "outputs": []
    },
    {
      "cell_type": "code",
      "source": [
        "# create MEl spectrogram transformations\n",
        "SAMPLE_RATE = 48000\n",
        "NUM_SAMPLES = 240000\n",
        "\n",
        "mel_spectrogram = torchaudio.transforms.MelSpectrogram(sample_rate=SAMPLE_RATE)"
      ],
      "metadata": {
        "id": "dGz9LayPJaTU"
      },
      "execution_count": 13,
      "outputs": []
    },
    {
      "cell_type": "markdown",
      "source": [
        "### Test Custom Dataset"
      ],
      "metadata": {
        "id": "dVSiQglX7m-n"
      }
    },
    {
      "cell_type": "code",
      "source": [
        "ild = IndianLanguageDataset(metadata='metadata.csv', \n",
        "                            audio_dir=wav_dir, \n",
        "                            target_sample_rate=SAMPLE_RATE, \n",
        "                            transformation=mel_spectrogram,\n",
        "                            num_samples= NUM_SAMPLES)\n",
        "print(f\"there are {len(ild)} samples in the dataset\")"
      ],
      "metadata": {
        "id": "1rq28biqGrQT",
        "colab": {
          "base_uri": "https://localhost:8080/"
        },
        "outputId": "4f3acfba-1c25-4521-e95f-3249f70b59b6"
      },
      "execution_count": 14,
      "outputs": [
        {
          "output_type": "stream",
          "name": "stdout",
          "text": [
            "there are 28254 samples in the dataset\n"
          ]
        }
      ]
    },
    {
      "cell_type": "code",
      "source": [
        "specgram , label = ild[14]"
      ],
      "metadata": {
        "id": "jT1EtUDVK982"
      },
      "execution_count": 15,
      "outputs": []
    },
    {
      "cell_type": "code",
      "source": [
        "print(f'signal:{specgram.shape} \\n label: {label}')"
      ],
      "metadata": {
        "colab": {
          "base_uri": "https://localhost:8080/"
        },
        "id": "CWQhd0QSLKtW",
        "outputId": "7d161c63-172d-4997-b3eb-df2dedb3f120"
      },
      "execution_count": 16,
      "outputs": [
        {
          "output_type": "stream",
          "name": "stdout",
          "text": [
            "signal:torch.Size([1, 128, 1201]) \n",
            " label: 0\n"
          ]
        }
      ]
    },
    {
      "cell_type": "markdown",
      "source": [
        "### Visualize the spectrogram"
      ],
      "metadata": {
        "id": "58lMLre7BmZm"
      }
    },
    {
      "cell_type": "code",
      "source": [
        "import matplotlib.pyplot as plt\n",
        "from IPython.display import Audio\n",
        "\n",
        "def plot_spectrogram(specgram, title=None, ylabel=\"freq_bin\"):\n",
        "    fig, axs = plt.subplots(1, 1)\n",
        "    axs.set_title(title or \"Spectrogram (db)\")\n",
        "    axs.set_ylabel(ylabel)\n",
        "    axs.set_xlabel(\"frame\")\n",
        "    im = axs.imshow(specgram.squeeze(), origin=\"lower\", aspect=\"auto\")\n",
        "    fig.colorbar(im, ax=axs)\n",
        "    plt.show(block=False)"
      ],
      "metadata": {
        "id": "dta04ZF_B9JS"
      },
      "execution_count": 17,
      "outputs": []
    },
    {
      "cell_type": "code",
      "source": [
        "plot_spectrogram(specgram, title='MelSpectrogram')"
      ],
      "metadata": {
        "colab": {
          "base_uri": "https://localhost:8080/",
          "height": 295
        },
        "id": "FmDK_0ozNC5t",
        "outputId": "c730295f-e331-49e1-c457-3d3818ba8c8a"
      },
      "execution_count": 18,
      "outputs": [
        {
          "output_type": "display_data",
          "data": {
            "text/plain": [
              "<Figure size 432x288 with 2 Axes>"
            ],
            "image/png": "[encoded data removed]"
          },
          "metadata": {
            "needs_background": "light"
          }
        }
      ]
    },
    {
      "cell_type": "code",
      "source": [
        "sample_data, sr = torchaudio.load(\"/content/final_data/language-audio-data/Hindi/Hindi1-1.wav\")"
      ],
      "metadata": {
        "id": "HdlTPL5tNLWt"
      },
      "execution_count": 19,
      "outputs": []
    },
    {
      "cell_type": "markdown",
      "source": [
        "## CNN MODEL"
      ],
      "metadata": {
        "id": "VCCCMK87cyur"
      }
    },
    {
      "cell_type": "code",
      "source": [
        "import torch.nn as nn\n",
        "from torch.utils.data import DataLoader\n",
        "import torch.nn.functional as F\n",
        "from torchsummary import summary\n",
        "\n",
        "class ImageClassification(nn.Module):\n",
        "    def training_step(self, batch):\n",
        "      images, labels = batch \n",
        "      out = self(images)                  # Generate predictions\n",
        "      loss = F.cross_entropy(out, labels) # Calculate loss\n",
        "      return loss\n",
        "    \n",
        "    def validation_step(self, batch):\n",
        "      images, labels = batch \n",
        "      out = self(images)                    # Generate predictions\n",
        "      loss = F.cross_entropy(out, labels)   # Calculate loss\n",
        "      acc = accuracy(out, labels)           # Calculate accuracy\n",
        "      return {'val_loss': loss.detach(), 'val_acc': acc}\n",
        "        \n",
        "    def validation_epoch_end(self, outputs):\n",
        "      batch_losses = [x['val_loss'] for x in outputs]\n",
        "      epoch_loss = torch.stack(batch_losses).mean()   # Combine losses\n",
        "      batch_accs = [x['val_acc'] for x in outputs]\n",
        "      epoch_acc = torch.stack(batch_accs).mean()      # Combine accuracies\n",
        "      return {'val_loss': epoch_loss.item(), 'val_acc': epoch_acc.item()}\n",
        "    \n",
        "    def epoch_end(self, epoch, result):\n",
        "      print(\"Epoch [{}], train_loss: {:.4f}, val_loss: {:.4f}, val_acc: {:.4f}\".format(\n",
        "          epoch, result['train_loss'], result['val_loss'], result['val_acc']))\n",
        "        \n",
        "def accuracy(outputs, labels):\n",
        "    _, preds = torch.max(outputs, dim=1)\n",
        "    return torch.tensor(torch.sum(preds == labels).item() / len(preds))"
      ],
      "metadata": {
        "id": "pjimD77rc0DR"
      },
      "execution_count": 141,
      "outputs": []
    },
    {
      "cell_type": "markdown",
      "source": [
        "### Model Architecture"
      ],
      "metadata": {
        "id": "DBBNDWigukM9"
      }
    },
    {
      "cell_type": "code",
      "source": [
        "class CNNNetwork(ImageClassification):\n",
        "    def __init__(self, in_channels, num_classes):\n",
        "        super().__init__()\n",
        "        self.conv1 = self.conv_block(in_channels, 16, pool=True) \n",
        "        self.conv2 = self.conv_block(16, 32, pool=True) \n",
        "        self.conv3 = self.conv_block(32, 64, pool=True) \n",
        "        self.conv4 = self.conv_block(64, 128, pool=True) \n",
        "        self.flatten = nn.Flatten()\n",
        "        self.dropout = nn.Dropout(0.2)\n",
        "        self.linear = nn.Linear(128 * 5 * 4, num_classes)\n",
        "        self.softmax = nn.Softmax(dim=1)\n",
        "  \n",
        "    @staticmethod\n",
        "    def conv_block(in_channels, out_channels, pool=False):\n",
        "        layers = [nn.Conv2d(in_channels, out_channels, kernel_size=3, stride=1, padding=2), \n",
        "                  nn.BatchNorm2d(out_channels), \n",
        "                  nn.ReLU(inplace=True)]\n",
        "        if pool: layers.append(nn.MaxPool2d(kernel_size=2))\n",
        "        return nn.Sequential(*layers) \n",
        "\n",
        "    def forward(self, input_data):\n",
        "        out = self.conv1(input_data)\n",
        "        out = self.conv2(out)\n",
        "        out = self.conv3(out)\n",
        "        out = self.conv4(out)\n",
        "        out = self.flatten(out)\n",
        "        out = self.dropout(out)\n",
        "        logits = self.linear(out)\n",
        "        predictions = self.softmax(logits)\n",
        "        return predictions"
      ],
      "metadata": {
        "id": "JCd-AV4Sumoc"
      },
      "execution_count": 140,
      "outputs": []
    },
    {
      "cell_type": "code",
      "source": [
        "cnn = CNNNetwork(in_channels = 1, num_classes = 4)"
      ],
      "metadata": {
        "id": "6ktyoEWkv_1t"
      },
      "execution_count": 131,
      "outputs": []
    },
    {
      "cell_type": "code",
      "source": [
        "summary(cnn.cuda(), (1,62,40))"
      ],
      "metadata": {
        "colab": {
          "base_uri": "https://localhost:8080/"
        },
        "id": "utMfRNDPwf_3",
        "outputId": "133286ac-7686-4360-9fe2-e431c725db90"
      },
      "execution_count": 132,
      "outputs": [
        {
          "output_type": "stream",
          "name": "stdout",
          "text": [
            "----------------------------------------------------------------\n",
            "        Layer (type)               Output Shape         Param #\n",
            "================================================================\n",
            "            Conv2d-1           [-1, 16, 64, 42]             160\n",
            "       BatchNorm2d-2           [-1, 16, 64, 42]              32\n",
            "              ReLU-3           [-1, 16, 64, 42]               0\n",
            "         MaxPool2d-4           [-1, 16, 32, 21]               0\n",
            "            Conv2d-5           [-1, 32, 34, 23]           4,640\n",
            "       BatchNorm2d-6           [-1, 32, 34, 23]              64\n",
            "              ReLU-7           [-1, 32, 34, 23]               0\n",
            "         MaxPool2d-8           [-1, 32, 17, 11]               0\n",
            "            Conv2d-9           [-1, 64, 19, 13]          18,496\n",
            "      BatchNorm2d-10           [-1, 64, 19, 13]             128\n",
            "             ReLU-11           [-1, 64, 19, 13]               0\n",
            "        MaxPool2d-12             [-1, 64, 9, 6]               0\n",
            "           Conv2d-13           [-1, 128, 11, 8]          73,856\n",
            "      BatchNorm2d-14           [-1, 128, 11, 8]             256\n",
            "             ReLU-15           [-1, 128, 11, 8]               0\n",
            "        MaxPool2d-16            [-1, 128, 5, 4]               0\n",
            "          Flatten-17                 [-1, 2560]               0\n",
            "          Dropout-18                 [-1, 2560]               0\n",
            "           Linear-19                    [-1, 4]          10,244\n",
            "          Softmax-20                    [-1, 4]               0\n",
            "================================================================\n",
            "Total params: 107,876\n",
            "Trainable params: 107,876\n",
            "Non-trainable params: 0\n",
            "----------------------------------------------------------------\n",
            "Input size (MB): 0.01\n",
            "Forward/backward pass size (MB): 2.39\n",
            "Params size (MB): 0.41\n",
            "Estimated Total Size (MB): 2.81\n",
            "----------------------------------------------------------------\n"
          ]
        }
      ]
    },
    {
      "cell_type": "markdown",
      "source": [
        "## GPU functions"
      ],
      "metadata": {
        "id": "Nt8K4b4t19cf"
      }
    },
    {
      "cell_type": "code",
      "source": [
        "def get_default_device():\n",
        "    \"\"\"Pick GPU if available, else CPU\"\"\"\n",
        "    if torch.cuda.is_available():\n",
        "        return torch.device('cuda')\n",
        "    else:\n",
        "        return torch.device('cpu')\n",
        "    \n",
        "def to_device(data, device):\n",
        "    \"\"\"Move tensor(s) to chosen device\"\"\"\n",
        "    if isinstance(data, (list,tuple)):\n",
        "        return [to_device(x, device) for x in data]\n",
        "    return data.to(device, non_blocking=True)\n",
        "\n",
        "class GPUDataLoader():\n",
        "    \"\"\"Wrap a pytorch Dataloader to move data to a device\"\"\"\n",
        "    def __init__(self, dl, device):\n",
        "        self.dl = dl\n",
        "        self.device = device\n",
        "        \n",
        "    def __iter__(self):\n",
        "        \"\"\"Yield a batch of data after moving it to device\"\"\"\n",
        "        for b in self.dl: \n",
        "            yield to_device(b, self.device)\n",
        "\n",
        "    def __len__(self):\n",
        "        \"\"\"Number of batches\"\"\"\n",
        "        return len(self.dl)"
      ],
      "metadata": {
        "id": "Vdsz_2lv11jk"
      },
      "execution_count": 82,
      "outputs": []
    },
    {
      "cell_type": "markdown",
      "source": [
        "### Training function"
      ],
      "metadata": {
        "id": "P8g-d03Q4mbV"
      }
    },
    {
      "cell_type": "code",
      "source": [
        "from torch.optim.lr_scheduler import StepLR\n",
        "from tqdm import tqdm\n",
        "\n",
        "@torch.no_grad()\n",
        "def evaluate(model, val_loader):\n",
        "  model.eval()\n",
        "  outputs = [model.validation_step(batch) for batch in val_loader]\n",
        "  return model.validation_epoch_end(outputs)\n",
        "\n",
        "\n",
        "def fit(model, train_loader, val_loader, epochs, lr, opt_func):\n",
        "  history = []\n",
        "  optimizer = opt_func(model.parameters(), lr)\n",
        "  scheduler = StepLR(optimizer= optimizer, \n",
        "                  step_size = 3, \n",
        "                  gamma= 0.1)\n",
        "  for epoch in range(1, epochs+1):\n",
        "    #Training\n",
        "    print('Epoch:', epoch,'LR:', scheduler.get_last_lr())\n",
        "    train_losses = []\n",
        "    model.train()\n",
        "    loop = tqdm(enumerate(train_loader), total=len(train_loader), leave=False)\n",
        "    for batch_idx, batch in loop:\n",
        "        loss = model.training_step(batch)\n",
        "        train_losses.append(loss)\n",
        "\n",
        "        # backward \n",
        "        optimizer.zero_grad()\n",
        "        loss.backward()\n",
        "\n",
        "        # gradient descent\n",
        "        optimizer.step()\n",
        "        scheduler.step()\n",
        "\n",
        "        # update progress bar\n",
        "        loop.set_description(f\"Epoch [{epoch}/{epochs}]\")\n",
        "        loop.set_postfix(loss = loss.item())\n",
        "\n",
        "    # validation steps\n",
        "    result = evaluate(model, val_loader)\n",
        "    result['train_loss'] = torch.stack(train_losses).mean().item()\n",
        "    model.epoch_end(epoch, result)\n",
        "    history.append(result)\n",
        "  return history"
      ],
      "metadata": {
        "id": "TI6t8-ND-yWx"
      },
      "execution_count": 153,
      "outputs": []
    },
    {
      "cell_type": "code",
      "source": [],
      "metadata": {
        "id": "WcNzw7EjQhCn"
      },
      "execution_count": 122,
      "outputs": []
    },
    {
      "cell_type": "markdown",
      "source": [
        "### Make stratified split of data to have same number of samples per each class"
      ],
      "metadata": {
        "id": "RMvONsO_4meB"
      }
    },
    {
      "cell_type": "code",
      "source": [
        "from sklearn.model_selection import StratifiedShuffleSplit\n",
        "\n",
        "split = StratifiedShuffleSplit(n_splits=5, train_size=0.7, test_size=0.3, random_state=36)\n",
        "for train_index, test_index in split.split(metadata, metadata['labels']):\n",
        "    strat_train_set = metadata.loc[train_index]\n",
        "    strat_val_set = metadata.loc[test_index]\n",
        "\n",
        "strat_train_set.to_csv('metadata_train.csv', index=False)\n",
        "strat_val_set.to_csv('metadata_val.csv', index=False)"
      ],
      "metadata": {
        "id": "qSLYo73zTMaZ"
      },
      "execution_count": 143,
      "outputs": []
    },
    {
      "cell_type": "code",
      "source": [
        "torch.cuda.get_device_name()"
      ],
      "metadata": {
        "colab": {
          "base_uri": "https://localhost:8080/",
          "height": 36
        },
        "id": "mIb-wYVVT7vM",
        "outputId": "0bff5e28-d1b1-43dc-94df-99ee91f2c7a4"
      },
      "execution_count": 144,
      "outputs": [
        {
          "output_type": "execute_result",
          "data": {
            "text/plain": [
              "'Tesla T4'"
            ],
            "application/vnd.google.colaboratory.intrinsic+json": {
              "type": "string"
            }
          },
          "metadata": {},
          "execution_count": 144
        }
      ]
    },
    {
      "cell_type": "markdown",
      "source": [
        "### Move model objects to GPU"
      ],
      "metadata": {
        "id": "HxTtjFsS5IKM"
      }
    },
    {
      "cell_type": "markdown",
      "source": [
        "dataloader, model -> GPU "
      ],
      "metadata": {
        "id": "I4RK-O_NUDt-"
      }
    },
    {
      "cell_type": "code",
      "source": [
        "BATCH_SIZE = 64\n",
        "\n",
        "SAMPLE_RATE = 4000\n",
        "NUM_SAMPLES = 20000\n",
        "\n",
        "mel_spectrogram = torchaudio.transforms.MelSpectrogram(sample_rate=SAMPLE_RATE,\n",
        "                                                  n_fft = 1024,\n",
        "                                                  hop_length = 512,\n",
        "                                                  n_mels = 64)\n",
        "# Adam optimiser\n",
        "optimser = torch.optim.Adam\n",
        "\n",
        "train_lang_data = IndianLanguageDataset(metadata='metadata_train.csv',\n",
        "                                        audio_dir = wav_dir,\n",
        "                                        target_sample_rate=SAMPLE_RATE, \n",
        "                                        transformation=mel_spectrogram,\n",
        "                                        num_samples=NUM_SAMPLES\n",
        "                                        )\n",
        "val_lang_data = IndianLanguageDataset(metadata='metadata_val.csv',\n",
        "                                       audio_dir= wav_dir,\n",
        "                                       target_sample_rate=SAMPLE_RATE,\n",
        "                                       transformation=mel_spectrogram,\n",
        "                                       num_samples=NUM_SAMPLES\n",
        "                                       )\n",
        "\n",
        "train_dl = DataLoader(dataset=train_lang_data,\n",
        "                      batch_size=BATCH_SIZE,\n",
        "                      shuffle=True,\n",
        "                      num_workers=4,\n",
        "                      pin_memory=True)\n",
        "\n",
        "val_dl = DataLoader(dataset=val_lang_data,\n",
        "                      batch_size=BATCH_SIZE*2,\n",
        "                      num_workers=4,\n",
        "                      pin_memory=True)"
      ],
      "metadata": {
        "id": "OkmIH7lHUHV9"
      },
      "execution_count": 197,
      "outputs": []
    },
    {
      "cell_type": "code",
      "source": [
        "device = get_default_device()\n",
        "device"
      ],
      "metadata": {
        "colab": {
          "base_uri": "https://localhost:8080/"
        },
        "id": "uZ3_DGshUHfB",
        "outputId": "3512d2cf-9b5b-4b99-f18b-3eadea9259f0"
      },
      "execution_count": 150,
      "outputs": [
        {
          "output_type": "execute_result",
          "data": {
            "text/plain": [
              "device(type='cuda')"
            ]
          },
          "metadata": {},
          "execution_count": 150
        }
      ]
    },
    {
      "cell_type": "code",
      "source": [
        "# move model to device\n",
        "model = to_device(CNNNetwork(1, 4), device)\n",
        "\n",
        "train_dl = GPUDataLoader(train_dl, device)\n",
        "val_dl = GPUDataLoader(val_dl, device)"
      ],
      "metadata": {
        "id": "eVplsK_JXabc"
      },
      "execution_count": 151,
      "outputs": []
    },
    {
      "cell_type": "markdown",
      "source": [
        "## Training the model"
      ],
      "metadata": {
        "id": "wibUOtu94--N"
      }
    },
    {
      "cell_type": "code",
      "source": [
        "evaluate(model, val_dl)"
      ],
      "metadata": {
        "colab": {
          "base_uri": "https://localhost:8080/"
        },
        "id": "se_cuYKLXvfo",
        "outputId": "2eb90567-6fd6-42d3-a862-f401b4ffa3b9"
      },
      "execution_count": 115,
      "outputs": [
        {
          "output_type": "execute_result",
          "data": {
            "text/plain": [
              "{'val_loss': 1.5083842277526855, 'val_acc': 0.17486651241779327}"
            ]
          },
          "metadata": {},
          "execution_count": 115
        }
      ]
    },
    {
      "cell_type": "code",
      "source": [
        "history = fit(model=model, train_loader=train_dl, val_loader=val_dl, epochs=5, lr=0.01, opt_func=optimser)"
      ],
      "metadata": {
        "colab": {
          "base_uri": "https://localhost:8080/"
        },
        "id": "L0ZAA06JhvAv",
        "outputId": "cf2a9af0-0fcf-43e2-acf2-6e0908069223"
      },
      "execution_count": 154,
      "outputs": [
        {
          "output_type": "stream",
          "name": "stdout",
          "text": [
            "Epoch: 1 LR: [0.01]\n"
          ]
        },
        {
          "output_type": "stream",
          "name": "stderr",
          "text": []
        },
        {
          "output_type": "stream",
          "name": "stdout",
          "text": [
            "Epoch [1], train_loss: 1.2470, val_loss: 1.2447, val_acc: 0.4531\n",
            "Epoch: 2 LR: [1.0000000000000064e-105]\n"
          ]
        },
        {
          "output_type": "stream",
          "name": "stderr",
          "text": []
        },
        {
          "output_type": "stream",
          "name": "stdout",
          "text": [
            "Epoch [2], train_loss: 1.2505, val_loss: 1.2437, val_acc: 0.4542\n",
            "Epoch: 3 LR: [1.0000000000000122e-208]\n"
          ]
        },
        {
          "output_type": "stream",
          "name": "stderr",
          "text": []
        },
        {
          "output_type": "stream",
          "name": "stdout",
          "text": [
            "Epoch [3], train_loss: 1.2499, val_loss: 1.2449, val_acc: 0.4518\n",
            "Epoch: 4 LR: [1e-312]\n"
          ]
        },
        {
          "output_type": "stream",
          "name": "stderr",
          "text": []
        },
        {
          "output_type": "stream",
          "name": "stdout",
          "text": [
            "Epoch [4], train_loss: 1.2501, val_loss: 1.2455, val_acc: 0.4540\n",
            "Epoch: 5 LR: [0.0]\n"
          ]
        },
        {
          "output_type": "stream",
          "name": "stderr",
          "text": []
        },
        {
          "output_type": "stream",
          "name": "stdout",
          "text": [
            "Epoch [5], train_loss: 1.2503, val_loss: 1.2417, val_acc: 0.4547\n"
          ]
        }
      ]
    },
    {
      "cell_type": "code",
      "source": [
        "torch.save(model.state_dict(), 'model.pt')"
      ],
      "metadata": {
        "id": "n4sbTumNjfFi"
      },
      "execution_count": 155,
      "outputs": []
    },
    {
      "cell_type": "markdown",
      "source": [
        "## Loading saved model"
      ],
      "metadata": {
        "id": "oy0I-XPQ1Ge1"
      }
    },
    {
      "cell_type": "code",
      "source": [
        "saved_model = torch.load(\"model.pt\")"
      ],
      "metadata": {
        "id": "-8-nyrri2rhg"
      },
      "execution_count": 159,
      "outputs": []
    },
    {
      "cell_type": "code",
      "source": [
        "model1 = CNNNetwork(1,4) "
      ],
      "metadata": {
        "id": "LIp1EbZ123F4"
      },
      "execution_count": 161,
      "outputs": []
    },
    {
      "cell_type": "code",
      "source": [
        "model1.load_state_dict(saved_model)"
      ],
      "metadata": {
        "colab": {
          "base_uri": "https://localhost:8080/"
        },
        "id": "ZYMkwm5g2_MM",
        "outputId": "faeb4992-8fa3-4b34-c56b-cca056053f86"
      },
      "execution_count": 162,
      "outputs": [
        {
          "output_type": "execute_result",
          "data": {
            "text/plain": [
              "<All keys matched successfully>"
            ]
          },
          "metadata": {},
          "execution_count": 162
        }
      ]
    },
    {
      "cell_type": "markdown",
      "source": [
        "## Prediction"
      ],
      "metadata": {
        "id": "z7VqzOC31GZr"
      }
    },
    {
      "cell_type": "code",
      "source": [
        "le_name_mapping"
      ],
      "metadata": {
        "colab": {
          "base_uri": "https://localhost:8080/"
        },
        "id": "cVZUyRFx3SCp",
        "outputId": "700c6429-ff57-4cda-c423-356ca2ccaa52"
      },
      "execution_count": 163,
      "outputs": [
        {
          "output_type": "execute_result",
          "data": {
            "text/plain": [
              "{'Hindi': 0, 'Kannada': 1, 'Tamil': 2, 'Telugu': 3}"
            ]
          },
          "metadata": {},
          "execution_count": 163
        }
      ]
    },
    {
      "cell_type": "code",
      "source": [
        "torch.device('cpu')"
      ],
      "metadata": {
        "colab": {
          "base_uri": "https://localhost:8080/"
        },
        "id": "tZCHKEbQ3SFH",
        "outputId": "efe0c227-8511-4f0d-9204-b0e72346a89c"
      },
      "execution_count": 168,
      "outputs": [
        {
          "output_type": "execute_result",
          "data": {
            "text/plain": [
              "device(type='cpu')"
            ]
          },
          "metadata": {},
          "execution_count": 168
        }
      ]
    },
    {
      "cell_type": "code",
      "source": [
        "target_input , label = val_lang_data[1000][0], val_lang_data[1000][1]"
      ],
      "metadata": {
        "id": "jbE5o_NH5Qfs"
      },
      "execution_count": 230,
      "outputs": []
    },
    {
      "cell_type": "code",
      "source": [
        "def predict(model, input, target, class_mapping):\n",
        "    model.eval()\n",
        "    with torch.no_grad():\n",
        "        predictions = model(input)\n",
        "        predicted_index = predictions[0].argmax(0)\n",
        "        predicted = class_mapping[predicted_index]\n",
        "        expected = class_mapping[target]\n",
        "    return predicted, expected"
      ],
      "metadata": {
        "id": "xmV_dBWF5gw1"
      },
      "execution_count": 231,
      "outputs": []
    },
    {
      "cell_type": "code",
      "source": [
        "predicted, expected = predict(model=model.to(device='cpu'), input= target_input.unsqueeze_(0), target=label, class_mapping=list(le_name_mapping.keys()))"
      ],
      "metadata": {
        "id": "gj8WvfvhCbLs"
      },
      "execution_count": 232,
      "outputs": []
    },
    {
      "cell_type": "code",
      "source": [
        "print(f\"the model has predicted: {predicted} and the expected class is : {expected}\")"
      ],
      "metadata": {
        "colab": {
          "base_uri": "https://localhost:8080/"
        },
        "id": "Eql6b-FYC8Cm",
        "outputId": "ea51b74a-00fe-4ab0-a60b-f9a2c4b029c5"
      },
      "execution_count": 233,
      "outputs": [
        {
          "output_type": "stream",
          "name": "stdout",
          "text": [
            "the model has predicted: Telugu and the expected class is : Telugu\n"
          ]
        }
      ]
    },
    {
      "cell_type": "code",
      "source": [],
      "metadata": {
        "id": "exKVGxFODVQI"
      },
      "execution_count": null,
      "outputs": []
    }
  ]
}